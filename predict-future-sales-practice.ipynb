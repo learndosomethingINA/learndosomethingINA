{
 "cells": [
  {
   "cell_type": "raw",
   "id": "cd6a96ec",
   "metadata": {
    "_cell_guid": "b1076dfc-b9ad-4769-8c92-a6c4dae69d19",
    "_uuid": "8f2839f25d086af736a60e9eeb907d3b93b6e0e5",
    "papermill": {
     "duration": 0.008735,
     "end_time": "2022-11-29T13:39:57.703069",
     "exception": false,
     "start_time": "2022-11-29T13:39:57.694334",
     "status": "completed"
    },
    "tags": []
   },
   "source": [
    "# This Python 3 environment comes with many helpful analytics libraries installed\n",
    "# It is defined by the kaggle/python Docker image: https://github.com/kaggle/docker-python\n",
    "# For example, here's several helpful packages to load\n",
    "\n",
    "import numpy as np # linear algebra\n",
    "import pandas as pd # data processing, CSV file I/O (e.g. pd.read_csv)\n",
    "\n",
    "# Input data files are available in the read-only \"../input/\" directory\n",
    "# For example, running this (by clicking run or pressing Shift+Enter) will list all files under the input directory\n",
    "\n",
    "import os\n",
    "for dirname, _, filenames in os.walk('/kaggle/input'):\n",
    "    for filename in filenames:\n",
    "        print(os.path.join(dirname, filename))\n",
    "\n",
    "# You can write up to 20GB to the current directory (/kaggle/working/) that gets preserved as output when you create a version using \"Save & Run All\" \n",
    "# You can also write temporary files to /kaggle/temp/, but they won't be saved outside of the current session"
   ]
  },
  {
   "cell_type": "markdown",
   "id": "cc7871a8",
   "metadata": {
    "papermill": {
     "duration": 0.006046,
     "end_time": "2022-11-29T13:39:57.715898",
     "exception": false,
     "start_time": "2022-11-29T13:39:57.709852",
     "status": "completed"
    },
    "tags": []
   },
   "source": [
    "> INTRODUCTION  \n",
    "\n",
    "In this model, a prediction model for sales of a software company 1C_Company will done using the given data which contains information about sales from 1st January 2013 to 31st October 2015.\n",
    "\n",
    "Below is a list of the data contained in this project:\n",
    "\n",
    "* sales_train.csv: The training set. Daily historical data from January 2013 to October 2015.\n",
    "\n",
    "* test.csv: The test set. There is need to forecast the sales for these shops and products for November 2015.\n",
    "\n",
    "* sample_submission.csv: This is a sample submission file shown in the correct format.\n",
    "\n",
    "* items.csv: Supplemental information about the items/products.\n",
    "\n",
    "* item_categories.csv: Supplemental information about the items categories.\n",
    "\n",
    "* shops.csv: Supplemental information about the shops.\n",
    "\n",
    "There are 6 data sets in this project as shown above. A discription of the fields contained in the data sets is as shown below:\n",
    "\n",
    "**ID**: An Id that represents a (Shop, Item) tuple within the test set\n",
    "\n",
    "**shop**_id: Unique identifier of a shop\n",
    "\n",
    "**item_id**: Unique identifier of a product\n",
    "\n",
    "**item_category_id**: Unique identifier of item category\n",
    "\n",
    "**item_cnt_day**: Number of products sold. **You are predicting a monthly amount of this measure**\n",
    "\n",
    "**item_price**This challenge serves as final project for the \"How to win a data science competition\" Coursera course.\n",
    "\n",
    "In this competition you will work with a challenging time-series dataset consisting of daily sales data, kindly provided by one of the largest Russian software firms - 1C Company. \n",
    "\n",
    "We are asking you to predict total sales for every product and store in the next month. By solving this competition you will be able to apply and enhance your data science skills.: Ccurrent price of an item\n",
    "\n",
    "**date**: date in format dd/mm/yyyy\n",
    "\n",
    "**date_block_num**: A consecutive month number used for convenience. January 2013 is 0, February 2013 is 1 and October 2015 is 33\n",
    "\n",
    "**item_name**: Name of item\n",
    "\n",
    "**shop_name**: Name of shop\n",
    "\n",
    "**item_category_name**: Name of item category\n"
   ]
  },
  {
   "cell_type": "markdown",
   "id": "7c69df17",
   "metadata": {
    "papermill": {
     "duration": 0.006016,
     "end_time": "2022-11-29T13:39:57.728090",
     "exception": false,
     "start_time": "2022-11-29T13:39:57.722074",
     "status": "completed"
    },
    "tags": []
   },
   "source": [
    "# 1. IMPORT LIBRARY"
   ]
  },
  {
   "cell_type": "code",
   "execution_count": 1,
   "id": "b3b40823",
   "metadata": {
    "execution": {
     "iopub.execute_input": "2022-11-29T13:39:57.746019Z",
     "iopub.status.busy": "2022-11-29T13:39:57.745294Z",
     "iopub.status.idle": "2022-11-29T13:39:58.977244Z",
     "shell.execute_reply": "2022-11-29T13:39:58.976056Z"
    },
    "papermill": {
     "duration": 1.244615,
     "end_time": "2022-11-29T13:39:58.980428",
     "exception": false,
     "start_time": "2022-11-29T13:39:57.735813",
     "status": "completed"
    },
    "tags": []
   },
   "outputs": [],
   "source": [
    "#Data Handling \n",
    "import pandas as pd \n",
    "import datetime \n",
    "import os \n",
    "#visualization \n",
    "import matplotlib.pyplot as plt\n",
    "import seaborn as sns"
   ]
  },
  {
   "cell_type": "markdown",
   "id": "ad587b44",
   "metadata": {
    "papermill": {
     "duration": 0.005575,
     "end_time": "2022-11-29T13:39:58.991969",
     "exception": false,
     "start_time": "2022-11-29T13:39:58.986394",
     "status": "completed"
    },
    "tags": []
   },
   "source": [
    "# 2. LOAD DATA "
   ]
  },
  {
   "cell_type": "code",
   "execution_count": 2,
   "id": "25919371",
   "metadata": {
    "execution": {
     "iopub.execute_input": "2022-11-29T13:39:59.005608Z",
     "iopub.status.busy": "2022-11-29T13:39:59.005164Z",
     "iopub.status.idle": "2022-11-29T13:40:01.734019Z",
     "shell.execute_reply": "2022-11-29T13:40:01.732622Z"
    },
    "papermill": {
     "duration": 2.738938,
     "end_time": "2022-11-29T13:40:01.736883",
     "exception": false,
     "start_time": "2022-11-29T13:39:58.997945",
     "status": "completed"
    },
    "tags": []
   },
   "outputs": [],
   "source": [
    "#load data\n",
    "os.listdir('/kaggle/input/') \n",
    "\n",
    "sales = pd.read_csv('../input/competitive-data-science-predict-future-sales/sales_train.csv')\n",
    "item = pd.read_csv('../input/competitive-data-science-predict-future-sales/items.csv')\n",
    "item_cate = pd.read_csv('../input/competitive-data-science-predict-future-sales/item_categories.csv')\n",
    "shop = pd.read_csv('../input/competitive-data-science-predict-future-sales/shops.csv')"
   ]
  },
  {
   "cell_type": "code",
   "execution_count": 3,
   "id": "907d84d4",
   "metadata": {
    "execution": {
     "iopub.execute_input": "2022-11-29T13:40:01.751062Z",
     "iopub.status.busy": "2022-11-29T13:40:01.750632Z",
     "iopub.status.idle": "2022-11-29T13:40:01.757881Z",
     "shell.execute_reply": "2022-11-29T13:40:01.756577Z"
    },
    "papermill": {
     "duration": 0.01774,
     "end_time": "2022-11-29T13:40:01.760791",
     "exception": false,
     "start_time": "2022-11-29T13:40:01.743051",
     "status": "completed"
    },
    "tags": []
   },
   "outputs": [
    {
     "name": "stdout",
     "output_type": "stream",
     "text": [
      "sales_train :  (2935849, 6)\n",
      "item :  (22170, 3)\n",
      "item_categories :  (84, 2)\n",
      "shop :  (60, 2)\n"
     ]
    }
   ],
   "source": [
    "#number rows and columns each for data. exmp sales_train.csv\n",
    "print(\"sales_train : \",sales.shape)\n",
    "print(\"item : \", item.shape)\n",
    "print(\"item_categories : \", item_cate.shape)\n",
    "print(\"shop : \", shop.shape)"
   ]
  },
  {
   "cell_type": "code",
   "execution_count": 4,
   "id": "4262dd53",
   "metadata": {
    "execution": {
     "iopub.execute_input": "2022-11-29T13:40:01.775105Z",
     "iopub.status.busy": "2022-11-29T13:40:01.774671Z",
     "iopub.status.idle": "2022-11-29T13:40:01.801088Z",
     "shell.execute_reply": "2022-11-29T13:40:01.800065Z"
    },
    "papermill": {
     "duration": 0.036759,
     "end_time": "2022-11-29T13:40:01.803797",
     "exception": false,
     "start_time": "2022-11-29T13:40:01.767038",
     "status": "completed"
    },
    "tags": []
   },
   "outputs": [
    {
     "data": {
      "text/html": [
       "<div>\n",
       "<style scoped>\n",
       "    .dataframe tbody tr th:only-of-type {\n",
       "        vertical-align: middle;\n",
       "    }\n",
       "\n",
       "    .dataframe tbody tr th {\n",
       "        vertical-align: top;\n",
       "    }\n",
       "\n",
       "    .dataframe thead th {\n",
       "        text-align: right;\n",
       "    }\n",
       "</style>\n",
       "<table border=\"1\" class=\"dataframe\">\n",
       "  <thead>\n",
       "    <tr style=\"text-align: right;\">\n",
       "      <th></th>\n",
       "      <th>item_category_name</th>\n",
       "      <th>item_category_id</th>\n",
       "    </tr>\n",
       "  </thead>\n",
       "  <tbody>\n",
       "    <tr>\n",
       "      <th>0</th>\n",
       "      <td>PC - Гарнитуры/Наушники</td>\n",
       "      <td>0</td>\n",
       "    </tr>\n",
       "    <tr>\n",
       "      <th>1</th>\n",
       "      <td>Аксессуары - PS2</td>\n",
       "      <td>1</td>\n",
       "    </tr>\n",
       "    <tr>\n",
       "      <th>2</th>\n",
       "      <td>Аксессуары - PS3</td>\n",
       "      <td>2</td>\n",
       "    </tr>\n",
       "    <tr>\n",
       "      <th>3</th>\n",
       "      <td>Аксессуары - PS4</td>\n",
       "      <td>3</td>\n",
       "    </tr>\n",
       "    <tr>\n",
       "      <th>4</th>\n",
       "      <td>Аксессуары - PSP</td>\n",
       "      <td>4</td>\n",
       "    </tr>\n",
       "  </tbody>\n",
       "</table>\n",
       "</div>"
      ],
      "text/plain": [
       "        item_category_name  item_category_id\n",
       "0  PC - Гарнитуры/Наушники                 0\n",
       "1         Аксессуары - PS2                 1\n",
       "2         Аксессуары - PS3                 2\n",
       "3         Аксессуары - PS4                 3\n",
       "4         Аксессуары - PSP                 4"
      ]
     },
     "execution_count": 4,
     "metadata": {},
     "output_type": "execute_result"
    }
   ],
   "source": [
    "item_cate.head()"
   ]
  },
  {
   "cell_type": "code",
   "execution_count": 5,
   "id": "7b21c321",
   "metadata": {
    "execution": {
     "iopub.execute_input": "2022-11-29T13:40:01.820781Z",
     "iopub.status.busy": "2022-11-29T13:40:01.819996Z",
     "iopub.status.idle": "2022-11-29T13:40:01.832150Z",
     "shell.execute_reply": "2022-11-29T13:40:01.830599Z"
    },
    "papermill": {
     "duration": 0.023098,
     "end_time": "2022-11-29T13:40:01.835033",
     "exception": false,
     "start_time": "2022-11-29T13:40:01.811935",
     "status": "completed"
    },
    "tags": []
   },
   "outputs": [
    {
     "data": {
      "text/html": [
       "<div>\n",
       "<style scoped>\n",
       "    .dataframe tbody tr th:only-of-type {\n",
       "        vertical-align: middle;\n",
       "    }\n",
       "\n",
       "    .dataframe tbody tr th {\n",
       "        vertical-align: top;\n",
       "    }\n",
       "\n",
       "    .dataframe thead th {\n",
       "        text-align: right;\n",
       "    }\n",
       "</style>\n",
       "<table border=\"1\" class=\"dataframe\">\n",
       "  <thead>\n",
       "    <tr style=\"text-align: right;\">\n",
       "      <th></th>\n",
       "      <th>item_category_name</th>\n",
       "      <th>item_category_id</th>\n",
       "    </tr>\n",
       "  </thead>\n",
       "  <tbody>\n",
       "    <tr>\n",
       "      <th>79</th>\n",
       "      <td>Служебные</td>\n",
       "      <td>79</td>\n",
       "    </tr>\n",
       "    <tr>\n",
       "      <th>80</th>\n",
       "      <td>Служебные - Билеты</td>\n",
       "      <td>80</td>\n",
       "    </tr>\n",
       "    <tr>\n",
       "      <th>81</th>\n",
       "      <td>Чистые носители (шпиль)</td>\n",
       "      <td>81</td>\n",
       "    </tr>\n",
       "    <tr>\n",
       "      <th>82</th>\n",
       "      <td>Чистые носители (штучные)</td>\n",
       "      <td>82</td>\n",
       "    </tr>\n",
       "    <tr>\n",
       "      <th>83</th>\n",
       "      <td>Элементы питания</td>\n",
       "      <td>83</td>\n",
       "    </tr>\n",
       "  </tbody>\n",
       "</table>\n",
       "</div>"
      ],
      "text/plain": [
       "           item_category_name  item_category_id\n",
       "79                  Служебные                79\n",
       "80         Служебные - Билеты                80\n",
       "81    Чистые носители (шпиль)                81\n",
       "82  Чистые носители (штучные)                82\n",
       "83           Элементы питания                83"
      ]
     },
     "execution_count": 5,
     "metadata": {},
     "output_type": "execute_result"
    }
   ],
   "source": [
    "item_cate.tail()"
   ]
  },
  {
   "cell_type": "code",
   "execution_count": 6,
   "id": "0b14d824",
   "metadata": {
    "execution": {
     "iopub.execute_input": "2022-11-29T13:40:01.850277Z",
     "iopub.status.busy": "2022-11-29T13:40:01.849751Z",
     "iopub.status.idle": "2022-11-29T13:40:01.864818Z",
     "shell.execute_reply": "2022-11-29T13:40:01.863554Z"
    },
    "papermill": {
     "duration": 0.025802,
     "end_time": "2022-11-29T13:40:01.867454",
     "exception": false,
     "start_time": "2022-11-29T13:40:01.841652",
     "status": "completed"
    },
    "tags": []
   },
   "outputs": [
    {
     "data": {
      "text/html": [
       "<div>\n",
       "<style scoped>\n",
       "    .dataframe tbody tr th:only-of-type {\n",
       "        vertical-align: middle;\n",
       "    }\n",
       "\n",
       "    .dataframe tbody tr th {\n",
       "        vertical-align: top;\n",
       "    }\n",
       "\n",
       "    .dataframe thead th {\n",
       "        text-align: right;\n",
       "    }\n",
       "</style>\n",
       "<table border=\"1\" class=\"dataframe\">\n",
       "  <thead>\n",
       "    <tr style=\"text-align: right;\">\n",
       "      <th></th>\n",
       "      <th>date</th>\n",
       "      <th>date_block_num</th>\n",
       "      <th>shop_id</th>\n",
       "      <th>item_id</th>\n",
       "      <th>item_price</th>\n",
       "      <th>item_cnt_day</th>\n",
       "    </tr>\n",
       "  </thead>\n",
       "  <tbody>\n",
       "    <tr>\n",
       "      <th>0</th>\n",
       "      <td>02.01.2013</td>\n",
       "      <td>0</td>\n",
       "      <td>59</td>\n",
       "      <td>22154</td>\n",
       "      <td>999.00</td>\n",
       "      <td>1.0</td>\n",
       "    </tr>\n",
       "    <tr>\n",
       "      <th>1</th>\n",
       "      <td>03.01.2013</td>\n",
       "      <td>0</td>\n",
       "      <td>25</td>\n",
       "      <td>2552</td>\n",
       "      <td>899.00</td>\n",
       "      <td>1.0</td>\n",
       "    </tr>\n",
       "    <tr>\n",
       "      <th>2</th>\n",
       "      <td>05.01.2013</td>\n",
       "      <td>0</td>\n",
       "      <td>25</td>\n",
       "      <td>2552</td>\n",
       "      <td>899.00</td>\n",
       "      <td>-1.0</td>\n",
       "    </tr>\n",
       "    <tr>\n",
       "      <th>3</th>\n",
       "      <td>06.01.2013</td>\n",
       "      <td>0</td>\n",
       "      <td>25</td>\n",
       "      <td>2554</td>\n",
       "      <td>1709.05</td>\n",
       "      <td>1.0</td>\n",
       "    </tr>\n",
       "    <tr>\n",
       "      <th>4</th>\n",
       "      <td>15.01.2013</td>\n",
       "      <td>0</td>\n",
       "      <td>25</td>\n",
       "      <td>2555</td>\n",
       "      <td>1099.00</td>\n",
       "      <td>1.0</td>\n",
       "    </tr>\n",
       "  </tbody>\n",
       "</table>\n",
       "</div>"
      ],
      "text/plain": [
       "         date  date_block_num  shop_id  item_id  item_price  item_cnt_day\n",
       "0  02.01.2013               0       59    22154      999.00           1.0\n",
       "1  03.01.2013               0       25     2552      899.00           1.0\n",
       "2  05.01.2013               0       25     2552      899.00          -1.0\n",
       "3  06.01.2013               0       25     2554     1709.05           1.0\n",
       "4  15.01.2013               0       25     2555     1099.00           1.0"
      ]
     },
     "execution_count": 6,
     "metadata": {},
     "output_type": "execute_result"
    }
   ],
   "source": [
    "sales.head()"
   ]
  },
  {
   "cell_type": "code",
   "execution_count": 7,
   "id": "9817d02c",
   "metadata": {
    "execution": {
     "iopub.execute_input": "2022-11-29T13:40:01.883020Z",
     "iopub.status.busy": "2022-11-29T13:40:01.882589Z",
     "iopub.status.idle": "2022-11-29T13:40:04.380886Z",
     "shell.execute_reply": "2022-11-29T13:40:04.379554Z"
    },
    "papermill": {
     "duration": 2.509271,
     "end_time": "2022-11-29T13:40:04.383572",
     "exception": false,
     "start_time": "2022-11-29T13:40:01.874301",
     "status": "completed"
    },
    "tags": []
   },
   "outputs": [
    {
     "data": {
      "text/html": [
       "<div>\n",
       "<style scoped>\n",
       "    .dataframe tbody tr th:only-of-type {\n",
       "        vertical-align: middle;\n",
       "    }\n",
       "\n",
       "    .dataframe tbody tr th {\n",
       "        vertical-align: top;\n",
       "    }\n",
       "\n",
       "    .dataframe thead th {\n",
       "        text-align: right;\n",
       "    }\n",
       "</style>\n",
       "<table border=\"1\" class=\"dataframe\">\n",
       "  <thead>\n",
       "    <tr style=\"text-align: right;\">\n",
       "      <th></th>\n",
       "      <th>date</th>\n",
       "      <th>date_block_num</th>\n",
       "      <th>item_price</th>\n",
       "      <th>item_cnt_day</th>\n",
       "      <th>shop_name</th>\n",
       "      <th>item_name</th>\n",
       "      <th>item_category_name</th>\n",
       "    </tr>\n",
       "  </thead>\n",
       "  <tbody>\n",
       "    <tr>\n",
       "      <th>0</th>\n",
       "      <td>02.01.2013</td>\n",
       "      <td>0</td>\n",
       "      <td>999.00</td>\n",
       "      <td>1.0</td>\n",
       "      <td>Ярославль ТЦ \"Альтаир\"</td>\n",
       "      <td>ЯВЛЕНИЕ 2012 (BD)</td>\n",
       "      <td>Кино - Blu-Ray</td>\n",
       "    </tr>\n",
       "    <tr>\n",
       "      <th>1</th>\n",
       "      <td>03.01.2013</td>\n",
       "      <td>0</td>\n",
       "      <td>899.00</td>\n",
       "      <td>1.0</td>\n",
       "      <td>Москва ТРК \"Атриум\"</td>\n",
       "      <td>DEEP PURPLE  The House Of Blue Light  LP</td>\n",
       "      <td>Музыка - Винил</td>\n",
       "    </tr>\n",
       "    <tr>\n",
       "      <th>2</th>\n",
       "      <td>05.01.2013</td>\n",
       "      <td>0</td>\n",
       "      <td>899.00</td>\n",
       "      <td>-1.0</td>\n",
       "      <td>Москва ТРК \"Атриум\"</td>\n",
       "      <td>DEEP PURPLE  The House Of Blue Light  LP</td>\n",
       "      <td>Музыка - Винил</td>\n",
       "    </tr>\n",
       "    <tr>\n",
       "      <th>3</th>\n",
       "      <td>06.01.2013</td>\n",
       "      <td>0</td>\n",
       "      <td>1709.05</td>\n",
       "      <td>1.0</td>\n",
       "      <td>Москва ТРК \"Атриум\"</td>\n",
       "      <td>DEEP PURPLE  Who Do You Think We Are  LP</td>\n",
       "      <td>Музыка - Винил</td>\n",
       "    </tr>\n",
       "    <tr>\n",
       "      <th>4</th>\n",
       "      <td>15.01.2013</td>\n",
       "      <td>0</td>\n",
       "      <td>1099.00</td>\n",
       "      <td>1.0</td>\n",
       "      <td>Москва ТРК \"Атриум\"</td>\n",
       "      <td>DEEP PURPLE 30 Very Best Of 2CD (Фирм.)</td>\n",
       "      <td>Музыка - CD фирменного производства</td>\n",
       "    </tr>\n",
       "  </tbody>\n",
       "</table>\n",
       "</div>"
      ],
      "text/plain": [
       "         date  date_block_num  item_price  item_cnt_day  \\\n",
       "0  02.01.2013               0      999.00           1.0   \n",
       "1  03.01.2013               0      899.00           1.0   \n",
       "2  05.01.2013               0      899.00          -1.0   \n",
       "3  06.01.2013               0     1709.05           1.0   \n",
       "4  15.01.2013               0     1099.00           1.0   \n",
       "\n",
       "                shop_name                                 item_name  \\\n",
       "0  Ярославль ТЦ \"Альтаир\"                         ЯВЛЕНИЕ 2012 (BD)   \n",
       "1     Москва ТРК \"Атриум\"  DEEP PURPLE  The House Of Blue Light  LP   \n",
       "2     Москва ТРК \"Атриум\"  DEEP PURPLE  The House Of Blue Light  LP   \n",
       "3     Москва ТРК \"Атриум\"  DEEP PURPLE  Who Do You Think We Are  LP   \n",
       "4     Москва ТРК \"Атриум\"   DEEP PURPLE 30 Very Best Of 2CD (Фирм.)   \n",
       "\n",
       "                    item_category_name  \n",
       "0                       Кино - Blu-Ray  \n",
       "1                       Музыка - Винил  \n",
       "2                       Музыка - Винил  \n",
       "3                       Музыка - Винил  \n",
       "4  Музыка - CD фирменного производства  "
      ]
     },
     "execution_count": 7,
     "metadata": {},
     "output_type": "execute_result"
    }
   ],
   "source": [
    "#JOIN Table \n",
    "df = pd.merge(sales, shop, how = 'left', left_on = 'shop_id', right_on = 'shop_id')\n",
    "df = pd.merge(df, item, how = 'left', left_on = 'item_id', right_on = 'item_id') \n",
    "df = pd.merge(df, item_cate, how = 'left', left_on = 'item_category_id', right_on = 'item_category_id')\n",
    "df.drop(['shop_id','item_id','item_category_id'], axis = 1, inplace = True)\n",
    "df.head()"
   ]
  },
  {
   "cell_type": "code",
   "execution_count": 8,
   "id": "08fa8273",
   "metadata": {
    "execution": {
     "iopub.execute_input": "2022-11-29T13:40:04.399436Z",
     "iopub.status.busy": "2022-11-29T13:40:04.399038Z",
     "iopub.status.idle": "2022-11-29T13:40:04.417141Z",
     "shell.execute_reply": "2022-11-29T13:40:04.415709Z"
    },
    "papermill": {
     "duration": 0.029574,
     "end_time": "2022-11-29T13:40:04.420250",
     "exception": false,
     "start_time": "2022-11-29T13:40:04.390676",
     "status": "completed"
    },
    "tags": []
   },
   "outputs": [
    {
     "name": "stdout",
     "output_type": "stream",
     "text": [
      "<class 'pandas.core.frame.DataFrame'>\n",
      "Int64Index: 2935849 entries, 0 to 2935848\n",
      "Data columns (total 7 columns):\n",
      " #   Column              Dtype  \n",
      "---  ------              -----  \n",
      " 0   date                object \n",
      " 1   date_block_num      int64  \n",
      " 2   item_price          float64\n",
      " 3   item_cnt_day        float64\n",
      " 4   shop_name           object \n",
      " 5   item_name           object \n",
      " 6   item_category_name  object \n",
      "dtypes: float64(2), int64(1), object(4)\n",
      "memory usage: 179.2+ MB\n"
     ]
    }
   ],
   "source": [
    "df.info()"
   ]
  },
  {
   "cell_type": "code",
   "execution_count": 9,
   "id": "be11baa2",
   "metadata": {
    "execution": {
     "iopub.execute_input": "2022-11-29T13:40:04.439727Z",
     "iopub.status.busy": "2022-11-29T13:40:04.438329Z",
     "iopub.status.idle": "2022-11-29T13:40:05.003801Z",
     "shell.execute_reply": "2022-11-29T13:40:05.002433Z"
    },
    "papermill": {
     "duration": 0.580157,
     "end_time": "2022-11-29T13:40:05.007300",
     "exception": false,
     "start_time": "2022-11-29T13:40:04.427143",
     "status": "completed"
    },
    "tags": []
   },
   "outputs": [
    {
     "name": "stdout",
     "output_type": "stream",
     "text": [
      "<class 'pandas.core.frame.DataFrame'>\n",
      "Int64Index: 2935849 entries, 0 to 2935848\n",
      "Data columns (total 7 columns):\n",
      " #   Column              Dtype         \n",
      "---  ------              -----         \n",
      " 0   date                datetime64[ns]\n",
      " 1   date_block_num      int64         \n",
      " 2   item_price          float64       \n",
      " 3   item_cnt_day        float64       \n",
      " 4   shop_name           object        \n",
      " 5   item_name           object        \n",
      " 6   item_category_name  object        \n",
      "dtypes: datetime64[ns](1), float64(2), int64(1), object(3)\n",
      "memory usage: 179.2+ MB\n"
     ]
    }
   ],
   "source": [
    "df['date'] = pd.to_datetime(df['date'])\n",
    "df.info()"
   ]
  },
  {
   "cell_type": "markdown",
   "id": "ad2f7b05",
   "metadata": {
    "papermill": {
     "duration": 0.006835,
     "end_time": "2022-11-29T13:40:05.021872",
     "exception": false,
     "start_time": "2022-11-29T13:40:05.015037",
     "status": "completed"
    },
    "tags": []
   },
   "source": [
    "we changed the date data type of the object to datetime to make it more relevant"
   ]
  },
  {
   "cell_type": "code",
   "execution_count": 10,
   "id": "76312ac6",
   "metadata": {
    "execution": {
     "iopub.execute_input": "2022-11-29T13:40:05.038687Z",
     "iopub.status.busy": "2022-11-29T13:40:05.037343Z",
     "iopub.status.idle": "2022-11-29T13:40:05.052426Z",
     "shell.execute_reply": "2022-11-29T13:40:05.051174Z"
    },
    "papermill": {
     "duration": 0.026099,
     "end_time": "2022-11-29T13:40:05.054961",
     "exception": false,
     "start_time": "2022-11-29T13:40:05.028862",
     "status": "completed"
    },
    "tags": []
   },
   "outputs": [
    {
     "data": {
      "text/html": [
       "<div>\n",
       "<style scoped>\n",
       "    .dataframe tbody tr th:only-of-type {\n",
       "        vertical-align: middle;\n",
       "    }\n",
       "\n",
       "    .dataframe tbody tr th {\n",
       "        vertical-align: top;\n",
       "    }\n",
       "\n",
       "    .dataframe thead th {\n",
       "        text-align: right;\n",
       "    }\n",
       "</style>\n",
       "<table border=\"1\" class=\"dataframe\">\n",
       "  <thead>\n",
       "    <tr style=\"text-align: right;\">\n",
       "      <th></th>\n",
       "      <th>date</th>\n",
       "      <th>date_block_num</th>\n",
       "      <th>item_price</th>\n",
       "      <th>item_cnt_day</th>\n",
       "      <th>shop_name</th>\n",
       "      <th>item_name</th>\n",
       "      <th>item_category_name</th>\n",
       "    </tr>\n",
       "  </thead>\n",
       "  <tbody>\n",
       "    <tr>\n",
       "      <th>0</th>\n",
       "      <td>2013-02-01</td>\n",
       "      <td>0</td>\n",
       "      <td>999.00</td>\n",
       "      <td>1.0</td>\n",
       "      <td>Ярославль ТЦ \"Альтаир\"</td>\n",
       "      <td>ЯВЛЕНИЕ 2012 (BD)</td>\n",
       "      <td>Кино - Blu-Ray</td>\n",
       "    </tr>\n",
       "    <tr>\n",
       "      <th>1</th>\n",
       "      <td>2013-03-01</td>\n",
       "      <td>0</td>\n",
       "      <td>899.00</td>\n",
       "      <td>1.0</td>\n",
       "      <td>Москва ТРК \"Атриум\"</td>\n",
       "      <td>DEEP PURPLE  The House Of Blue Light  LP</td>\n",
       "      <td>Музыка - Винил</td>\n",
       "    </tr>\n",
       "    <tr>\n",
       "      <th>2</th>\n",
       "      <td>2013-05-01</td>\n",
       "      <td>0</td>\n",
       "      <td>899.00</td>\n",
       "      <td>-1.0</td>\n",
       "      <td>Москва ТРК \"Атриум\"</td>\n",
       "      <td>DEEP PURPLE  The House Of Blue Light  LP</td>\n",
       "      <td>Музыка - Винил</td>\n",
       "    </tr>\n",
       "    <tr>\n",
       "      <th>3</th>\n",
       "      <td>2013-06-01</td>\n",
       "      <td>0</td>\n",
       "      <td>1709.05</td>\n",
       "      <td>1.0</td>\n",
       "      <td>Москва ТРК \"Атриум\"</td>\n",
       "      <td>DEEP PURPLE  Who Do You Think We Are  LP</td>\n",
       "      <td>Музыка - Винил</td>\n",
       "    </tr>\n",
       "    <tr>\n",
       "      <th>4</th>\n",
       "      <td>2013-01-15</td>\n",
       "      <td>0</td>\n",
       "      <td>1099.00</td>\n",
       "      <td>1.0</td>\n",
       "      <td>Москва ТРК \"Атриум\"</td>\n",
       "      <td>DEEP PURPLE 30 Very Best Of 2CD (Фирм.)</td>\n",
       "      <td>Музыка - CD фирменного производства</td>\n",
       "    </tr>\n",
       "  </tbody>\n",
       "</table>\n",
       "</div>"
      ],
      "text/plain": [
       "        date  date_block_num  item_price  item_cnt_day  \\\n",
       "0 2013-02-01               0      999.00           1.0   \n",
       "1 2013-03-01               0      899.00           1.0   \n",
       "2 2013-05-01               0      899.00          -1.0   \n",
       "3 2013-06-01               0     1709.05           1.0   \n",
       "4 2013-01-15               0     1099.00           1.0   \n",
       "\n",
       "                shop_name                                 item_name  \\\n",
       "0  Ярославль ТЦ \"Альтаир\"                         ЯВЛЕНИЕ 2012 (BD)   \n",
       "1     Москва ТРК \"Атриум\"  DEEP PURPLE  The House Of Blue Light  LP   \n",
       "2     Москва ТРК \"Атриум\"  DEEP PURPLE  The House Of Blue Light  LP   \n",
       "3     Москва ТРК \"Атриум\"  DEEP PURPLE  Who Do You Think We Are  LP   \n",
       "4     Москва ТРК \"Атриум\"   DEEP PURPLE 30 Very Best Of 2CD (Фирм.)   \n",
       "\n",
       "                    item_category_name  \n",
       "0                       Кино - Blu-Ray  \n",
       "1                       Музыка - Винил  \n",
       "2                       Музыка - Винил  \n",
       "3                       Музыка - Винил  \n",
       "4  Музыка - CD фирменного производства  "
      ]
     },
     "execution_count": 10,
     "metadata": {},
     "output_type": "execute_result"
    }
   ],
   "source": [
    "df.head()"
   ]
  },
  {
   "cell_type": "code",
   "execution_count": 11,
   "id": "7734aad3",
   "metadata": {
    "execution": {
     "iopub.execute_input": "2022-11-29T13:40:05.072094Z",
     "iopub.status.busy": "2022-11-29T13:40:05.071421Z",
     "iopub.status.idle": "2022-11-29T13:40:05.086562Z",
     "shell.execute_reply": "2022-11-29T13:40:05.085331Z"
    },
    "papermill": {
     "duration": 0.026401,
     "end_time": "2022-11-29T13:40:05.088885",
     "exception": false,
     "start_time": "2022-11-29T13:40:05.062484",
     "status": "completed"
    },
    "tags": []
   },
   "outputs": [
    {
     "data": {
      "text/html": [
       "<div>\n",
       "<style scoped>\n",
       "    .dataframe tbody tr th:only-of-type {\n",
       "        vertical-align: middle;\n",
       "    }\n",
       "\n",
       "    .dataframe tbody tr th {\n",
       "        vertical-align: top;\n",
       "    }\n",
       "\n",
       "    .dataframe thead th {\n",
       "        text-align: right;\n",
       "    }\n",
       "</style>\n",
       "<table border=\"1\" class=\"dataframe\">\n",
       "  <thead>\n",
       "    <tr style=\"text-align: right;\">\n",
       "      <th></th>\n",
       "      <th>date</th>\n",
       "      <th>date_block_num</th>\n",
       "      <th>item_price</th>\n",
       "      <th>item_cnt_day</th>\n",
       "      <th>shop_name</th>\n",
       "      <th>item_name</th>\n",
       "      <th>item_category_name</th>\n",
       "    </tr>\n",
       "  </thead>\n",
       "  <tbody>\n",
       "    <tr>\n",
       "      <th>2935844</th>\n",
       "      <td>2015-10-10</td>\n",
       "      <td>33</td>\n",
       "      <td>299.0</td>\n",
       "      <td>1.0</td>\n",
       "      <td>Москва ТРК \"Атриум\"</td>\n",
       "      <td>V/A Nu Jazz Selection (digipack)</td>\n",
       "      <td>Музыка - CD локального производства</td>\n",
       "    </tr>\n",
       "    <tr>\n",
       "      <th>2935845</th>\n",
       "      <td>2015-09-10</td>\n",
       "      <td>33</td>\n",
       "      <td>299.0</td>\n",
       "      <td>1.0</td>\n",
       "      <td>Москва ТРК \"Атриум\"</td>\n",
       "      <td>V/A The Golden Jazz Collection  1  2CD</td>\n",
       "      <td>Музыка - CD локального производства</td>\n",
       "    </tr>\n",
       "    <tr>\n",
       "      <th>2935846</th>\n",
       "      <td>2015-10-14</td>\n",
       "      <td>33</td>\n",
       "      <td>349.0</td>\n",
       "      <td>1.0</td>\n",
       "      <td>Москва ТРК \"Атриум\"</td>\n",
       "      <td>V/A The Best Of The 3 Tenors</td>\n",
       "      <td>Музыка - CD локального производства</td>\n",
       "    </tr>\n",
       "    <tr>\n",
       "      <th>2935847</th>\n",
       "      <td>2015-10-22</td>\n",
       "      <td>33</td>\n",
       "      <td>299.0</td>\n",
       "      <td>1.0</td>\n",
       "      <td>Москва ТРК \"Атриум\"</td>\n",
       "      <td>V/A Relax Collection  Planet MP3 (mp3-CD) (jewel)</td>\n",
       "      <td>Музыка - MP3</td>\n",
       "    </tr>\n",
       "    <tr>\n",
       "      <th>2935848</th>\n",
       "      <td>2015-03-10</td>\n",
       "      <td>33</td>\n",
       "      <td>299.0</td>\n",
       "      <td>1.0</td>\n",
       "      <td>Москва ТРК \"Атриум\"</td>\n",
       "      <td>V/A The Golden Jazz Collection  1  2CD</td>\n",
       "      <td>Музыка - CD локального производства</td>\n",
       "    </tr>\n",
       "  </tbody>\n",
       "</table>\n",
       "</div>"
      ],
      "text/plain": [
       "              date  date_block_num  item_price  item_cnt_day  \\\n",
       "2935844 2015-10-10              33       299.0           1.0   \n",
       "2935845 2015-09-10              33       299.0           1.0   \n",
       "2935846 2015-10-14              33       349.0           1.0   \n",
       "2935847 2015-10-22              33       299.0           1.0   \n",
       "2935848 2015-03-10              33       299.0           1.0   \n",
       "\n",
       "                   shop_name  \\\n",
       "2935844  Москва ТРК \"Атриум\"   \n",
       "2935845  Москва ТРК \"Атриум\"   \n",
       "2935846  Москва ТРК \"Атриум\"   \n",
       "2935847  Москва ТРК \"Атриум\"   \n",
       "2935848  Москва ТРК \"Атриум\"   \n",
       "\n",
       "                                                 item_name  \\\n",
       "2935844                   V/A Nu Jazz Selection (digipack)   \n",
       "2935845             V/A The Golden Jazz Collection  1  2CD   \n",
       "2935846                       V/A The Best Of The 3 Tenors   \n",
       "2935847  V/A Relax Collection  Planet MP3 (mp3-CD) (jewel)   \n",
       "2935848             V/A The Golden Jazz Collection  1  2CD   \n",
       "\n",
       "                          item_category_name  \n",
       "2935844  Музыка - CD локального производства  \n",
       "2935845  Музыка - CD локального производства  \n",
       "2935846  Музыка - CD локального производства  \n",
       "2935847                         Музыка - MP3  \n",
       "2935848  Музыка - CD локального производства  "
      ]
     },
     "execution_count": 11,
     "metadata": {},
     "output_type": "execute_result"
    }
   ],
   "source": [
    "df.tail()"
   ]
  },
  {
   "cell_type": "markdown",
   "id": "ada8f6b5",
   "metadata": {
    "papermill": {
     "duration": 0.007398,
     "end_time": "2022-11-29T13:40:05.104389",
     "exception": false,
     "start_time": "2022-11-29T13:40:05.096991",
     "status": "completed"
    },
    "tags": []
   },
   "source": [
    "checking missing values from joining table as df "
   ]
  },
  {
   "cell_type": "code",
   "execution_count": 12,
   "id": "e60b4640",
   "metadata": {
    "execution": {
     "iopub.execute_input": "2022-11-29T13:40:05.122473Z",
     "iopub.status.busy": "2022-11-29T13:40:05.121809Z",
     "iopub.status.idle": "2022-11-29T13:40:05.534502Z",
     "shell.execute_reply": "2022-11-29T13:40:05.533198Z"
    },
    "papermill": {
     "duration": 0.42567,
     "end_time": "2022-11-29T13:40:05.537740",
     "exception": false,
     "start_time": "2022-11-29T13:40:05.112070",
     "status": "completed"
    },
    "tags": []
   },
   "outputs": [
    {
     "name": "stdout",
     "output_type": "stream",
     "text": [
      "No. of null values in joining table as df : 0\n"
     ]
    }
   ],
   "source": [
    "print(\"No. of null values in joining table as df :\", df.isnull().sum().sum())"
   ]
  },
  {
   "cell_type": "code",
   "execution_count": 13,
   "id": "33f52098",
   "metadata": {
    "execution": {
     "iopub.execute_input": "2022-11-29T13:40:05.555369Z",
     "iopub.status.busy": "2022-11-29T13:40:05.554982Z",
     "iopub.status.idle": "2022-11-29T13:40:05.559858Z",
     "shell.execute_reply": "2022-11-29T13:40:05.558447Z"
    },
    "papermill": {
     "duration": 0.016669,
     "end_time": "2022-11-29T13:40:05.562270",
     "exception": false,
     "start_time": "2022-11-29T13:40:05.545601",
     "status": "completed"
    },
    "tags": []
   },
   "outputs": [],
   "source": [
    "#looking at the number of different catagories"
   ]
  },
  {
   "cell_type": "code",
   "execution_count": 14,
   "id": "4d944ae3",
   "metadata": {
    "execution": {
     "iopub.execute_input": "2022-11-29T13:40:05.579583Z",
     "iopub.status.busy": "2022-11-29T13:40:05.579138Z",
     "iopub.status.idle": "2022-11-29T13:40:08.851631Z",
     "shell.execute_reply": "2022-11-29T13:40:08.850320Z"
    },
    "papermill": {
     "duration": 3.284061,
     "end_time": "2022-11-29T13:40:08.854196",
     "exception": false,
     "start_time": "2022-11-29T13:40:05.570135",
     "status": "completed"
    },
    "tags": []
   },
   "outputs": [
    {
     "name": "stderr",
     "output_type": "stream",
     "text": [
      "/opt/conda/lib/python3.7/site-packages/seaborn/_decorators.py:43: FutureWarning: Pass the following variables as keyword args: x, y. From version 0.12, the only valid positional argument will be `data`, and passing other arguments without an explicit keyword will result in an error or misinterpretation.\n",
      "  FutureWarning\n"
     ]
    },
    {
     "data": {
      "image/png": "[encoded data removed]",
      "text/plain": [
       "<Figure size 1440x648 with 1 Axes>"
      ]
     },
     "metadata": {
      "needs_background": "light"
     },
     "output_type": "display_data"
    }
   ],
   "source": [
    "plt.rcParams['figure.figsize'] = (20, 9)\n",
    "sns.barplot(item['item_category_id'], item['item_id'], palette = 'colorblind')\n",
    "plt.title('Count for Different Items Categories', fontsize = 30)\n",
    "plt.xlabel('Item Categories', fontsize = 15)\n",
    "plt.ylabel('Items in each Categories', fontsize = 15)\n",
    "plt.show()"
   ]
  },
  {
   "cell_type": "code",
   "execution_count": 15,
   "id": "5bcd249f",
   "metadata": {
    "execution": {
     "iopub.execute_input": "2022-11-29T13:40:08.874152Z",
     "iopub.status.busy": "2022-11-29T13:40:08.873408Z",
     "iopub.status.idle": "2022-11-29T13:40:09.574295Z",
     "shell.execute_reply": "2022-11-29T13:40:09.573050Z"
    },
    "papermill": {
     "duration": 0.714134,
     "end_time": "2022-11-29T13:40:09.576858",
     "exception": false,
     "start_time": "2022-11-29T13:40:08.862724",
     "status": "completed"
    },
    "tags": []
   },
   "outputs": [
    {
     "name": "stderr",
     "output_type": "stream",
     "text": [
      "/opt/conda/lib/python3.7/site-packages/seaborn/_decorators.py:43: FutureWarning: Pass the following variable as a keyword arg: x. From version 0.12, the only valid positional argument will be `data`, and passing other arguments without an explicit keyword will result in an error or misinterpretation.\n",
      "  FutureWarning\n"
     ]
    },
    {
     "data": {
      "image/png": "[encoded data removed]",
      "text/plain": [
       "<Figure size 1368x648 with 1 Axes>"
      ]
     },
     "metadata": {
      "needs_background": "light"
     },
     "output_type": "display_data"
    }
   ],
   "source": [
    "plt.rcParams['figure.figsize'] = (19, 9)\n",
    "sns.countplot(df['date_block_num'])\n",
    "plt.title('Date blocks according to months', fontsize = 30)\n",
    "plt.xlabel('Different blocks of months', fontsize = 15)\n",
    "plt.ylabel('No. of Purchases', fontsize = 15)\n",
    "plt.show()"
   ]
  },
  {
   "cell_type": "code",
   "execution_count": 16,
   "id": "fae9e6c4",
   "metadata": {
    "execution": {
     "iopub.execute_input": "2022-11-29T13:40:09.598512Z",
     "iopub.status.busy": "2022-11-29T13:40:09.598030Z",
     "iopub.status.idle": "2022-11-29T13:40:09.996540Z",
     "shell.execute_reply": "2022-11-29T13:40:09.995287Z"
    },
    "papermill": {
     "duration": 0.412064,
     "end_time": "2022-11-29T13:40:09.998873",
     "exception": false,
     "start_time": "2022-11-29T13:40:09.586809",
     "status": "completed"
    },
    "tags": []
   },
   "outputs": [
    {
     "data": {
      "text/html": [
       "<div>\n",
       "<style scoped>\n",
       "    .dataframe tbody tr th:only-of-type {\n",
       "        vertical-align: middle;\n",
       "    }\n",
       "\n",
       "    .dataframe tbody tr th {\n",
       "        vertical-align: top;\n",
       "    }\n",
       "\n",
       "    .dataframe thead th {\n",
       "        text-align: right;\n",
       "    }\n",
       "</style>\n",
       "<table border=\"1\" class=\"dataframe\">\n",
       "  <thead>\n",
       "    <tr style=\"text-align: right;\">\n",
       "      <th></th>\n",
       "      <th>date_block_num</th>\n",
       "      <th>item_price</th>\n",
       "      <th>item_cnt_day</th>\n",
       "    </tr>\n",
       "  </thead>\n",
       "  <tbody>\n",
       "    <tr>\n",
       "      <th>count</th>\n",
       "      <td>2.935849e+06</td>\n",
       "      <td>2.935849e+06</td>\n",
       "      <td>2.935849e+06</td>\n",
       "    </tr>\n",
       "    <tr>\n",
       "      <th>mean</th>\n",
       "      <td>1.456991e+01</td>\n",
       "      <td>8.908532e+02</td>\n",
       "      <td>1.242641e+00</td>\n",
       "    </tr>\n",
       "    <tr>\n",
       "      <th>std</th>\n",
       "      <td>9.422988e+00</td>\n",
       "      <td>1.729800e+03</td>\n",
       "      <td>2.618834e+00</td>\n",
       "    </tr>\n",
       "    <tr>\n",
       "      <th>min</th>\n",
       "      <td>0.000000e+00</td>\n",
       "      <td>-1.000000e+00</td>\n",
       "      <td>-2.200000e+01</td>\n",
       "    </tr>\n",
       "    <tr>\n",
       "      <th>25%</th>\n",
       "      <td>7.000000e+00</td>\n",
       "      <td>2.490000e+02</td>\n",
       "      <td>1.000000e+00</td>\n",
       "    </tr>\n",
       "    <tr>\n",
       "      <th>50%</th>\n",
       "      <td>1.400000e+01</td>\n",
       "      <td>3.990000e+02</td>\n",
       "      <td>1.000000e+00</td>\n",
       "    </tr>\n",
       "    <tr>\n",
       "      <th>75%</th>\n",
       "      <td>2.300000e+01</td>\n",
       "      <td>9.990000e+02</td>\n",
       "      <td>1.000000e+00</td>\n",
       "    </tr>\n",
       "    <tr>\n",
       "      <th>max</th>\n",
       "      <td>3.300000e+01</td>\n",
       "      <td>3.079800e+05</td>\n",
       "      <td>2.169000e+03</td>\n",
       "    </tr>\n",
       "  </tbody>\n",
       "</table>\n",
       "</div>"
      ],
      "text/plain": [
       "       date_block_num    item_price  item_cnt_day\n",
       "count    2.935849e+06  2.935849e+06  2.935849e+06\n",
       "mean     1.456991e+01  8.908532e+02  1.242641e+00\n",
       "std      9.422988e+00  1.729800e+03  2.618834e+00\n",
       "min      0.000000e+00 -1.000000e+00 -2.200000e+01\n",
       "25%      7.000000e+00  2.490000e+02  1.000000e+00\n",
       "50%      1.400000e+01  3.990000e+02  1.000000e+00\n",
       "75%      2.300000e+01  9.990000e+02  1.000000e+00\n",
       "max      3.300000e+01  3.079800e+05  2.169000e+03"
      ]
     },
     "execution_count": 16,
     "metadata": {},
     "output_type": "execute_result"
    }
   ],
   "source": [
    "df.describe()"
   ]
  },
  {
   "cell_type": "markdown",
   "id": "ce998c66",
   "metadata": {
    "papermill": {
     "duration": 0.009017,
     "end_time": "2022-11-29T13:40:10.017716",
     "exception": false,
     "start_time": "2022-11-29T13:40:10.008699",
     "status": "completed"
    },
    "tags": []
   },
   "source": [
    "date_block_num, item price, and item_cnt_day have a high standard deviation because of the large difference between their minimum and maximum values. This is also the reason why outliers can be seen in item price and item count below."
   ]
  },
  {
   "cell_type": "code",
   "execution_count": 17,
   "id": "7e738ee0",
   "metadata": {
    "execution": {
     "iopub.execute_input": "2022-11-29T13:40:10.039647Z",
     "iopub.status.busy": "2022-11-29T13:40:10.037985Z",
     "iopub.status.idle": "2022-11-29T13:40:12.018191Z",
     "shell.execute_reply": "2022-11-29T13:40:12.016762Z"
    },
    "papermill": {
     "duration": 1.994269,
     "end_time": "2022-11-29T13:40:12.021245",
     "exception": false,
     "start_time": "2022-11-29T13:40:10.026976",
     "status": "completed"
    },
    "tags": []
   },
   "outputs": [
    {
     "data": {
      "image/png": "[encoded data removed]",
      "text/plain": [
       "<Figure size 1152x360 with 1 Axes>"
      ]
     },
     "metadata": {
      "needs_background": "light"
     },
     "output_type": "display_data"
    },
    {
     "data": {
      "image/png": "[encoded data removed]",
      "text/plain": [
       "<Figure size 1152x360 with 1 Axes>"
      ]
     },
     "metadata": {
      "needs_background": "light"
     },
     "output_type": "display_data"
    },
    {
     "data": {
      "image/png": "[encoded data removed]",
      "text/plain": [
       "<Figure size 1152x360 with 1 Axes>"
      ]
     },
     "metadata": {
      "needs_background": "light"
     },
     "output_type": "display_data"
    }
   ],
   "source": [
    "data = df[['date_block_num', 'item_price', 'item_cnt_day']] \n",
    "def num_plot(df,var):\n",
    "    fig = plt.figure(figsize = (16, 5))\n",
    "    plt.subplot(1,3,3)\n",
    "    sns.boxplot(y= df[var]) \n",
    "    plt.title('boxplot') \n",
    "    plt.show()\n",
    "    \n",
    "\n",
    "\n",
    "for var in data:\n",
    "    num_plot(data, var)"
   ]
  },
  {
   "cell_type": "code",
   "execution_count": null,
   "id": "c021a3d4",
   "metadata": {
    "papermill": {
     "duration": 0.009358,
     "end_time": "2022-11-29T13:40:12.040938",
     "exception": false,
     "start_time": "2022-11-29T13:40:12.031580",
     "status": "completed"
    },
    "tags": []
   },
   "outputs": [],
   "source": []
  }
 ],
 "metadata": {
  "kernelspec": {
   "display_name": "Python 3",
   "language": "python",
   "name": "python3"
  },
  "language_info": {
   "codemirror_mode": {
    "name": "ipython",
    "version": 3
   },
   "file_extension": ".py",
   "mimetype": "text/x-python",
   "name": "python",
   "nbconvert_exporter": "python",
   "pygments_lexer": "ipython3",
   "version": "3.7.12"
  },
  "papermill": {
   "default_parameters": {},
   "duration": 24.588593,
   "end_time": "2022-11-29T13:40:12.974852",
   "environment_variables": {},
   "exception": null,
   "input_path": "__notebook__.ipynb",
   "output_path": "__notebook__.ipynb",
   "parameters": {},
   "start_time": "2022-11-29T13:39:48.386259",
   "version": "2.3.4"
  }
 },
 "nbformat": 4,
 "nbformat_minor": 5
}
