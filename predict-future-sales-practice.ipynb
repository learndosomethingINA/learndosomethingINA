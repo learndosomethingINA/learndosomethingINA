{
 "cells": [
  {
   "cell_type": "raw",
   "id": "c85106d3",
   "metadata": {
    "_cell_guid": "b1076dfc-b9ad-4769-8c92-a6c4dae69d19",
    "_uuid": "8f2839f25d086af736a60e9eeb907d3b93b6e0e5",
    "papermill": {
     "duration": 0.004611,
     "end_time": "2022-11-02T19:19:17.957225",
     "exception": false,
     "start_time": "2022-11-02T19:19:17.952614",
     "status": "completed"
    },
    "tags": []
   },
   "source": [
    "# This Python 3 environment comes with many helpful analytics libraries installed\n",
    "# It is defined by the kaggle/python Docker image: https://github.com/kaggle/docker-python\n",
    "# For example, here's several helpful packages to load\n",
    "\n",
    "import numpy as np # linear algebra\n",
    "import pandas as pd # data processing, CSV file I/O (e.g. pd.read_csv)\n",
    "\n",
    "# Input data files are available in the read-only \"../input/\" directory\n",
    "# For example, running this (by clicking run or pressing Shift+Enter) will list all files under the input directory\n",
    "\n",
    "import os\n",
    "for dirname, _, filenames in os.walk('/kaggle/input'):\n",
    "    for filename in filenames:\n",
    "        print(os.path.join(dirname, filename))\n",
    "\n",
    "# You can write up to 20GB to the current directory (/kaggle/working/) that gets preserved as output when you create a version using \"Save & Run All\" \n",
    "# You can also write temporary files to /kaggle/temp/, but they won't be saved outside of the current session"
   ]
  },
  {
   "cell_type": "markdown",
   "id": "34806ad8",
   "metadata": {
    "papermill": {
     "duration": 0.003069,
     "end_time": "2022-11-02T19:19:17.964248",
     "exception": false,
     "start_time": "2022-11-02T19:19:17.961179",
     "status": "completed"
    },
    "tags": []
   },
   "source": [
    "> INTRODUCTION  \n",
    "\n",
    "In this model, a prediction model for sales of a software company 1C_Company will done using the given data which contains information about sales from 1st January 2013 to 31st October 2015.\n",
    "\n",
    "Below is a list of the data contained in this project:\n",
    "\n",
    "* sales_train.csv: The training set. Daily historical data from January 2013 to October 2015.\n",
    "\n",
    "* test.csv: The test set. There is need to forecast the sales for these shops and products for November 2015.\n",
    "\n",
    "* sample_submission.csv: This is a sample submission file shown in the correct format.\n",
    "\n",
    "* items.csv: Supplemental information about the items/products.\n",
    "\n",
    "* item_categories.csv: Supplemental information about the items categories.\n",
    "\n",
    "* shops.csv: Supplemental information about the shops.\n",
    "\n",
    "There are 6 data sets in this project as shown above. A discription of the fields contained in the data sets is as shown below:\n",
    "\n",
    "**ID**: An Id that represents a (Shop, Item) tuple within the test set\n",
    "\n",
    "**shop**_id: Unique identifier of a shop\n",
    "\n",
    "**item_id**: Unique identifier of a product\n",
    "\n",
    "**item_category_id**: Unique identifier of item category\n",
    "\n",
    "**item_cnt_day**: Number of products sold. **You are predicting a monthly amount of this measure**\n",
    "\n",
    "**item_price**This challenge serves as final project for the \"How to win a data science competition\" Coursera course.\n",
    "\n",
    "In this competition you will work with a challenging time-series dataset consisting of daily sales data, kindly provided by one of the largest Russian software firms - 1C Company. \n",
    "\n",
    "We are asking you to predict total sales for every product and store in the next month. By solving this competition you will be able to apply and enhance your data science skills.: Ccurrent price of an item\n",
    "\n",
    "**date**: date in format dd/mm/yyyy\n",
    "\n",
    "**date_block_num**: A consecutive month number used for convenience. January 2013 is 0, February 2013 is 1 and October 2015 is 33\n",
    "\n",
    "**item_name**: Name of item\n",
    "\n",
    "**shop_name**: Name of shop\n",
    "\n",
    "**item_category_name**: Name of item category\n"
   ]
  },
  {
   "cell_type": "markdown",
   "id": "fa61f3e8",
   "metadata": {
    "papermill": {
     "duration": 0.002912,
     "end_time": "2022-11-02T19:19:17.970436",
     "exception": false,
     "start_time": "2022-11-02T19:19:17.967524",
     "status": "completed"
    },
    "tags": []
   },
   "source": [
    "# 1. IMPORT LIBRARY"
   ]
  },
  {
   "cell_type": "code",
   "execution_count": 1,
   "id": "be553901",
   "metadata": {
    "execution": {
     "iopub.execute_input": "2022-11-02T19:19:17.978476Z",
     "iopub.status.busy": "2022-11-02T19:19:17.978063Z",
     "iopub.status.idle": "2022-11-02T19:19:17.988554Z",
     "shell.execute_reply": "2022-11-02T19:19:17.987810Z"
    },
    "papermill": {
     "duration": 0.016907,
     "end_time": "2022-11-02T19:19:17.990564",
     "exception": false,
     "start_time": "2022-11-02T19:19:17.973657",
     "status": "completed"
    },
    "tags": []
   },
   "outputs": [],
   "source": [
    "#Data Handling \n",
    "import pandas as pd \n",
    "import datetime \n",
    "import os \n",
    "#visualization \n",
    "import matplotlib.pyplot as plt"
   ]
  },
  {
   "cell_type": "markdown",
   "id": "892e291e",
   "metadata": {
    "papermill": {
     "duration": 0.002726,
     "end_time": "2022-11-02T19:19:17.996862",
     "exception": false,
     "start_time": "2022-11-02T19:19:17.994136",
     "status": "completed"
    },
    "tags": []
   },
   "source": [
    "# 2. LOAD DATA "
   ]
  },
  {
   "cell_type": "code",
   "execution_count": 2,
   "id": "4cfcc798",
   "metadata": {
    "execution": {
     "iopub.execute_input": "2022-11-02T19:19:18.005633Z",
     "iopub.status.busy": "2022-11-02T19:19:18.004507Z",
     "iopub.status.idle": "2022-11-02T19:19:20.315436Z",
     "shell.execute_reply": "2022-11-02T19:19:20.314442Z"
    },
    "papermill": {
     "duration": 2.318056,
     "end_time": "2022-11-02T19:19:20.317898",
     "exception": false,
     "start_time": "2022-11-02T19:19:17.999842",
     "status": "completed"
    },
    "tags": []
   },
   "outputs": [],
   "source": [
    "#load data\n",
    "os.listdir('/kaggle/input/') \n",
    "\n",
    "sales = pd.read_csv('../input/competitive-data-science-predict-future-sales/sales_train.csv')\n",
    "item = pd.read_csv('../input/competitive-data-science-predict-future-sales/items.csv')\n",
    "item_cate = pd.read_csv('../input/competitive-data-science-predict-future-sales/item_categories.csv')\n",
    "shop = pd.read_csv('../input/competitive-data-science-predict-future-sales/shops.csv')"
   ]
  },
  {
   "cell_type": "code",
   "execution_count": 3,
   "id": "634d804d",
   "metadata": {
    "execution": {
     "iopub.execute_input": "2022-11-02T19:19:20.326337Z",
     "iopub.status.busy": "2022-11-02T19:19:20.325406Z",
     "iopub.status.idle": "2022-11-02T19:19:20.333331Z",
     "shell.execute_reply": "2022-11-02T19:19:20.332111Z"
    },
    "papermill": {
     "duration": 0.015096,
     "end_time": "2022-11-02T19:19:20.336385",
     "exception": false,
     "start_time": "2022-11-02T19:19:20.321289",
     "status": "completed"
    },
    "tags": []
   },
   "outputs": [
    {
     "data": {
      "text/plain": [
       "(2935849, 6)"
      ]
     },
     "execution_count": 3,
     "metadata": {},
     "output_type": "execute_result"
    }
   ],
   "source": [
    "#number rows and columns each for data. exmp sales_train.csv\n",
    "sales.shape"
   ]
  },
  {
   "cell_type": "code",
   "execution_count": 4,
   "id": "5591303d",
   "metadata": {
    "execution": {
     "iopub.execute_input": "2022-11-02T19:19:20.344834Z",
     "iopub.status.busy": "2022-11-02T19:19:20.344413Z",
     "iopub.status.idle": "2022-11-02T19:19:20.369125Z",
     "shell.execute_reply": "2022-11-02T19:19:20.367900Z"
    },
    "papermill": {
     "duration": 0.031195,
     "end_time": "2022-11-02T19:19:20.371084",
     "exception": false,
     "start_time": "2022-11-02T19:19:20.339889",
     "status": "completed"
    },
    "tags": []
   },
   "outputs": [
    {
     "data": {
      "text/html": [
       "<div>\n",
       "<style scoped>\n",
       "    .dataframe tbody tr th:only-of-type {\n",
       "        vertical-align: middle;\n",
       "    }\n",
       "\n",
       "    .dataframe tbody tr th {\n",
       "        vertical-align: top;\n",
       "    }\n",
       "\n",
       "    .dataframe thead th {\n",
       "        text-align: right;\n",
       "    }\n",
       "</style>\n",
       "<table border=\"1\" class=\"dataframe\">\n",
       "  <thead>\n",
       "    <tr style=\"text-align: right;\">\n",
       "      <th></th>\n",
       "      <th>date</th>\n",
       "      <th>date_block_num</th>\n",
       "      <th>shop_id</th>\n",
       "      <th>item_id</th>\n",
       "      <th>item_price</th>\n",
       "      <th>item_cnt_day</th>\n",
       "    </tr>\n",
       "  </thead>\n",
       "  <tbody>\n",
       "    <tr>\n",
       "      <th>0</th>\n",
       "      <td>02.01.2013</td>\n",
       "      <td>0</td>\n",
       "      <td>59</td>\n",
       "      <td>22154</td>\n",
       "      <td>999.00</td>\n",
       "      <td>1.0</td>\n",
       "    </tr>\n",
       "    <tr>\n",
       "      <th>1</th>\n",
       "      <td>03.01.2013</td>\n",
       "      <td>0</td>\n",
       "      <td>25</td>\n",
       "      <td>2552</td>\n",
       "      <td>899.00</td>\n",
       "      <td>1.0</td>\n",
       "    </tr>\n",
       "    <tr>\n",
       "      <th>2</th>\n",
       "      <td>05.01.2013</td>\n",
       "      <td>0</td>\n",
       "      <td>25</td>\n",
       "      <td>2552</td>\n",
       "      <td>899.00</td>\n",
       "      <td>-1.0</td>\n",
       "    </tr>\n",
       "    <tr>\n",
       "      <th>3</th>\n",
       "      <td>06.01.2013</td>\n",
       "      <td>0</td>\n",
       "      <td>25</td>\n",
       "      <td>2554</td>\n",
       "      <td>1709.05</td>\n",
       "      <td>1.0</td>\n",
       "    </tr>\n",
       "    <tr>\n",
       "      <th>4</th>\n",
       "      <td>15.01.2013</td>\n",
       "      <td>0</td>\n",
       "      <td>25</td>\n",
       "      <td>2555</td>\n",
       "      <td>1099.00</td>\n",
       "      <td>1.0</td>\n",
       "    </tr>\n",
       "  </tbody>\n",
       "</table>\n",
       "</div>"
      ],
      "text/plain": [
       "         date  date_block_num  shop_id  item_id  item_price  item_cnt_day\n",
       "0  02.01.2013               0       59    22154      999.00           1.0\n",
       "1  03.01.2013               0       25     2552      899.00           1.0\n",
       "2  05.01.2013               0       25     2552      899.00          -1.0\n",
       "3  06.01.2013               0       25     2554     1709.05           1.0\n",
       "4  15.01.2013               0       25     2555     1099.00           1.0"
      ]
     },
     "execution_count": 4,
     "metadata": {},
     "output_type": "execute_result"
    }
   ],
   "source": [
    "sales.head()"
   ]
  },
  {
   "cell_type": "code",
   "execution_count": 5,
   "id": "2508b717",
   "metadata": {
    "execution": {
     "iopub.execute_input": "2022-11-02T19:19:20.380645Z",
     "iopub.status.busy": "2022-11-02T19:19:20.379401Z",
     "iopub.status.idle": "2022-11-02T19:19:22.244220Z",
     "shell.execute_reply": "2022-11-02T19:19:22.242492Z"
    },
    "papermill": {
     "duration": 1.874282,
     "end_time": "2022-11-02T19:19:22.249029",
     "exception": false,
     "start_time": "2022-11-02T19:19:20.374747",
     "status": "completed"
    },
    "tags": []
   },
   "outputs": [
    {
     "data": {
      "text/html": [
       "<div>\n",
       "<style scoped>\n",
       "    .dataframe tbody tr th:only-of-type {\n",
       "        vertical-align: middle;\n",
       "    }\n",
       "\n",
       "    .dataframe tbody tr th {\n",
       "        vertical-align: top;\n",
       "    }\n",
       "\n",
       "    .dataframe thead th {\n",
       "        text-align: right;\n",
       "    }\n",
       "</style>\n",
       "<table border=\"1\" class=\"dataframe\">\n",
       "  <thead>\n",
       "    <tr style=\"text-align: right;\">\n",
       "      <th></th>\n",
       "      <th>date</th>\n",
       "      <th>date_block_num</th>\n",
       "      <th>item_price</th>\n",
       "      <th>item_cnt_day</th>\n",
       "      <th>shop_name</th>\n",
       "      <th>item_name</th>\n",
       "      <th>item_category_name</th>\n",
       "    </tr>\n",
       "  </thead>\n",
       "  <tbody>\n",
       "    <tr>\n",
       "      <th>0</th>\n",
       "      <td>02.01.2013</td>\n",
       "      <td>0</td>\n",
       "      <td>999.00</td>\n",
       "      <td>1.0</td>\n",
       "      <td>Ярославль ТЦ \"Альтаир\"</td>\n",
       "      <td>ЯВЛЕНИЕ 2012 (BD)</td>\n",
       "      <td>Кино - Blu-Ray</td>\n",
       "    </tr>\n",
       "    <tr>\n",
       "      <th>1</th>\n",
       "      <td>03.01.2013</td>\n",
       "      <td>0</td>\n",
       "      <td>899.00</td>\n",
       "      <td>1.0</td>\n",
       "      <td>Москва ТРК \"Атриум\"</td>\n",
       "      <td>DEEP PURPLE  The House Of Blue Light  LP</td>\n",
       "      <td>Музыка - Винил</td>\n",
       "    </tr>\n",
       "    <tr>\n",
       "      <th>2</th>\n",
       "      <td>05.01.2013</td>\n",
       "      <td>0</td>\n",
       "      <td>899.00</td>\n",
       "      <td>-1.0</td>\n",
       "      <td>Москва ТРК \"Атриум\"</td>\n",
       "      <td>DEEP PURPLE  The House Of Blue Light  LP</td>\n",
       "      <td>Музыка - Винил</td>\n",
       "    </tr>\n",
       "    <tr>\n",
       "      <th>3</th>\n",
       "      <td>06.01.2013</td>\n",
       "      <td>0</td>\n",
       "      <td>1709.05</td>\n",
       "      <td>1.0</td>\n",
       "      <td>Москва ТРК \"Атриум\"</td>\n",
       "      <td>DEEP PURPLE  Who Do You Think We Are  LP</td>\n",
       "      <td>Музыка - Винил</td>\n",
       "    </tr>\n",
       "    <tr>\n",
       "      <th>4</th>\n",
       "      <td>15.01.2013</td>\n",
       "      <td>0</td>\n",
       "      <td>1099.00</td>\n",
       "      <td>1.0</td>\n",
       "      <td>Москва ТРК \"Атриум\"</td>\n",
       "      <td>DEEP PURPLE 30 Very Best Of 2CD (Фирм.)</td>\n",
       "      <td>Музыка - CD фирменного производства</td>\n",
       "    </tr>\n",
       "  </tbody>\n",
       "</table>\n",
       "</div>"
      ],
      "text/plain": [
       "         date  date_block_num  item_price  item_cnt_day  \\\n",
       "0  02.01.2013               0      999.00           1.0   \n",
       "1  03.01.2013               0      899.00           1.0   \n",
       "2  05.01.2013               0      899.00          -1.0   \n",
       "3  06.01.2013               0     1709.05           1.0   \n",
       "4  15.01.2013               0     1099.00           1.0   \n",
       "\n",
       "                shop_name                                 item_name  \\\n",
       "0  Ярославль ТЦ \"Альтаир\"                         ЯВЛЕНИЕ 2012 (BD)   \n",
       "1     Москва ТРК \"Атриум\"  DEEP PURPLE  The House Of Blue Light  LP   \n",
       "2     Москва ТРК \"Атриум\"  DEEP PURPLE  The House Of Blue Light  LP   \n",
       "3     Москва ТРК \"Атриум\"  DEEP PURPLE  Who Do You Think We Are  LP   \n",
       "4     Москва ТРК \"Атриум\"   DEEP PURPLE 30 Very Best Of 2CD (Фирм.)   \n",
       "\n",
       "                    item_category_name  \n",
       "0                       Кино - Blu-Ray  \n",
       "1                       Музыка - Винил  \n",
       "2                       Музыка - Винил  \n",
       "3                       Музыка - Винил  \n",
       "4  Музыка - CD фирменного производства  "
      ]
     },
     "execution_count": 5,
     "metadata": {},
     "output_type": "execute_result"
    }
   ],
   "source": [
    "#JOIN Table \n",
    "df = pd.merge(sales, shop, how = 'left', left_on = 'shop_id', right_on = 'shop_id')\n",
    "df = pd.merge(df, item, how = 'left', left_on = 'item_id', right_on = 'item_id') \n",
    "df = pd.merge(df, item_cate, how = 'left', left_on = 'item_category_id', right_on = 'item_category_id')\n",
    "df.drop(['shop_id','item_id','item_category_id'], axis = 1, inplace = True)\n",
    "df.head()"
   ]
  },
  {
   "cell_type": "code",
   "execution_count": 6,
   "id": "1f3ac11d",
   "metadata": {
    "execution": {
     "iopub.execute_input": "2022-11-02T19:19:22.258992Z",
     "iopub.status.busy": "2022-11-02T19:19:22.258507Z",
     "iopub.status.idle": "2022-11-02T19:19:22.281474Z",
     "shell.execute_reply": "2022-11-02T19:19:22.280021Z"
    },
    "papermill": {
     "duration": 0.031333,
     "end_time": "2022-11-02T19:19:22.284644",
     "exception": false,
     "start_time": "2022-11-02T19:19:22.253311",
     "status": "completed"
    },
    "tags": []
   },
   "outputs": [
    {
     "name": "stdout",
     "output_type": "stream",
     "text": [
      "<class 'pandas.core.frame.DataFrame'>\n",
      "Int64Index: 2935849 entries, 0 to 2935848\n",
      "Data columns (total 7 columns):\n",
      " #   Column              Dtype  \n",
      "---  ------              -----  \n",
      " 0   date                object \n",
      " 1   date_block_num      int64  \n",
      " 2   item_price          float64\n",
      " 3   item_cnt_day        float64\n",
      " 4   shop_name           object \n",
      " 5   item_name           object \n",
      " 6   item_category_name  object \n",
      "dtypes: float64(2), int64(1), object(4)\n",
      "memory usage: 179.2+ MB\n"
     ]
    }
   ],
   "source": [
    "df.info()"
   ]
  },
  {
   "cell_type": "code",
   "execution_count": 7,
   "id": "e851be21",
   "metadata": {
    "execution": {
     "iopub.execute_input": "2022-11-02T19:19:22.295428Z",
     "iopub.status.busy": "2022-11-02T19:19:22.295020Z",
     "iopub.status.idle": "2022-11-02T19:19:22.719077Z",
     "shell.execute_reply": "2022-11-02T19:19:22.718113Z"
    },
    "papermill": {
     "duration": 0.431699,
     "end_time": "2022-11-02T19:19:22.721141",
     "exception": false,
     "start_time": "2022-11-02T19:19:22.289442",
     "status": "completed"
    },
    "tags": []
   },
   "outputs": [
    {
     "name": "stdout",
     "output_type": "stream",
     "text": [
      "<class 'pandas.core.frame.DataFrame'>\n",
      "Int64Index: 2935849 entries, 0 to 2935848\n",
      "Data columns (total 7 columns):\n",
      " #   Column              Dtype         \n",
      "---  ------              -----         \n",
      " 0   date                datetime64[ns]\n",
      " 1   date_block_num      int64         \n",
      " 2   item_price          float64       \n",
      " 3   item_cnt_day        float64       \n",
      " 4   shop_name           object        \n",
      " 5   item_name           object        \n",
      " 6   item_category_name  object        \n",
      "dtypes: datetime64[ns](1), float64(2), int64(1), object(3)\n",
      "memory usage: 179.2+ MB\n"
     ]
    }
   ],
   "source": [
    "df['date'] = pd.to_datetime(df['date'])\n",
    "df.info()"
   ]
  },
  {
   "cell_type": "markdown",
   "id": "22e8fb47",
   "metadata": {
    "papermill": {
     "duration": 0.003604,
     "end_time": "2022-11-02T19:19:22.728814",
     "exception": false,
     "start_time": "2022-11-02T19:19:22.725210",
     "status": "completed"
    },
    "tags": []
   },
   "source": [
    "we changed the date data type of the object to datetime to make it more relevant"
   ]
  },
  {
   "cell_type": "code",
   "execution_count": null,
   "id": "fc42978a",
   "metadata": {
    "papermill": {
     "duration": 0.003488,
     "end_time": "2022-11-02T19:19:22.736103",
     "exception": false,
     "start_time": "2022-11-02T19:19:22.732615",
     "status": "completed"
    },
    "tags": []
   },
   "outputs": [],
   "source": []
  }
 ],
 "metadata": {
  "kernelspec": {
   "display_name": "Python 3",
   "language": "python",
   "name": "python3"
  },
  "language_info": {
   "codemirror_mode": {
    "name": "ipython",
    "version": 3
   },
   "file_extension": ".py",
   "mimetype": "text/x-python",
   "name": "python",
   "nbconvert_exporter": "python",
   "pygments_lexer": "ipython3",
   "version": "3.7.12"
  },
  "papermill": {
   "default_parameters": {},
   "duration": 15.238862,
   "end_time": "2022-11-02T19:19:23.562714",
   "environment_variables": {},
   "exception": null,
   "input_path": "__notebook__.ipynb",
   "output_path": "__notebook__.ipynb",
   "parameters": {},
   "start_time": "2022-11-02T19:19:08.323852",
   "version": "2.3.4"
  }
 },
 "nbformat": 4,
 "nbformat_minor": 5
}
